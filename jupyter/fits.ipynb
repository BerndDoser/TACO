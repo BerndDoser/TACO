{
 "cells": [
  {
   "cell_type": "code",
   "execution_count": 3,
   "metadata": {},
   "outputs": [
    {
     "name": "stdout",
     "output_type": "stream",
     "text": [
      "Filename: ../data/kplr001995859_188_COR_filt_inp.fits\n",
      "No.    Name      Ver    Type      Cards   Dimensions   Format\n",
      "  0  PRIMARY       1 PrimaryHDU      85   (2, 71963)   float64   \n",
      "  1                1 ImageHDU         6   (71963,)   int16   \n",
      "[[ 5.49535397e+04 -3.48605145e-04]\n",
      " [ 5.49535601e+04 -2.31534403e+02]\n",
      " [ 5.49535805e+04 -3.27795768e+02]\n",
      " ...\n",
      " [ 5.64239572e+04  5.32105190e+01]\n",
      " [ 5.64239777e+04 -4.10786400e+01]\n",
      " [ 5.64239981e+04 -7.66570269e+01]]\n"
     ]
    }
   ],
   "source": [
    "from astropy.utils.data import get_pkg_data_filename\n",
    "from astropy.io import fits\n",
    "\n",
    "file = get_pkg_data_filename('../data/kplr001995859_188_COR_filt_inp.fits')\n",
    "\n",
    "fits.info(file)\n",
    "data = fits.getdata(file, ext=0)\n",
    "print(data)"
   ]
  },
  {
   "cell_type": "code",
   "execution_count": null,
   "metadata": {},
   "outputs": [],
   "source": []
  }
 ],
 "metadata": {
  "interpreter": {
   "hash": "e7370f93d1d0cde622a1f8e1c04877d8463912d04d973331ad4851f04de6915a"
  },
  "kernelspec": {
   "display_name": "Python 3 (ipykernel)",
   "language": "python",
   "name": "python3"
  },
  "language_info": {
   "codemirror_mode": {
    "name": "ipython",
    "version": 3
   },
   "file_extension": ".py",
   "mimetype": "text/x-python",
   "name": "python",
   "nbconvert_exporter": "python",
   "pygments_lexer": "ipython3",
   "version": "3.10.6"
  }
 },
 "nbformat": 4,
 "nbformat_minor": 4
}
