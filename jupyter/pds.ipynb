{
 "cells": [
  {
   "cell_type": "code",
   "execution_count": null,
   "metadata": {},
   "outputs": [],
   "source": [
    "import pandas as pd\n",
    "import plotly.express as px\n",
    "import taco\n",
    "\n",
    "ts = pd.DataFrame({\"time\": range(0, 10), \"flux\": [1,1,-1,-1,1,1,1,-1,-1,1]})\n",
    "ts_filtered, data = taco.filter(ts)\n",
    "print('mean = ', data[\"mean\"][0])\n",
    "print('var = ', data[\"var\"][0])\n",
    "\n",
    "fig = px.line(ts, x = 'time', y = 'flux')\n",
    "fig.show()\n",
    "\n",
    "pds = taco.calc_pds(ts)\n",
    "\n",
    "print(pds)\n",
    "print('nuNyq = ', pds[\"frequency\"].iloc[-1])\n",
    "\n",
    "fig = px.line(pds, x = 'frequency', y = 'power')\n",
    "fig.show()"
   ]
  }
 ],
 "metadata": {
  "kernelspec": {
   "display_name": "Python 3.8.10 64-bit",
   "language": "python",
   "name": "python3"
  },
  "language_info": {
   "codemirror_mode": {
    "name": "ipython",
    "version": 3
   },
   "file_extension": ".py",
   "mimetype": "text/x-python",
   "name": "python",
   "nbconvert_exporter": "python",
   "pygments_lexer": "ipython3",
   "version": "3.8.10"
  },
  "orig_nbformat": 4,
  "vscode": {
   "interpreter": {
    "hash": "31f2aee4e71d21fbe5cf8b01ff0e069b9275f58929596ceb00d14d90e3e16cd6"
   }
  }
 },
 "nbformat": 4,
 "nbformat_minor": 2
}
