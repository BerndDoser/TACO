{
 "cells": [
  {
   "cell_type": "code",
   "execution_count": null,
   "metadata": {},
   "outputs": [],
   "source": [
    "import pandas as pd\n",
    "import taco\n",
    "\n",
    "ts_raw = pd.read_csv('../data/001296068.dat', comment = '#', header = None, delim_whitespace = True)\n",
    "ts_filtered, data = taco.filter(ts_raw)\n",
    "\n",
    "pds = taco.calc_pds(ts_filtered)\n",
    "oversampled_pds = taco.calc_pds(ts_filtered, oversample_factor = 2)\n",
    "\n",
    "data[\"nuNyq\"] = pds[\"frequency\"].iloc[-1]\n",
    "print(\"nuNyq = \", data[\"nuNyq\"][0])"
   ]
  },
  {
   "cell_type": "code",
   "execution_count": null,
   "metadata": {},
   "outputs": [],
   "source": [
    "import plotly.express as px\n",
    "\n",
    "fig = px.line(pds, x = 'frequency', y = 'power')\n",
    "fig.show()"
   ]
  },
  {
   "cell_type": "code",
   "execution_count": null,
   "metadata": {},
   "outputs": [],
   "source": [
    "data = taco.numax_estimate(pds, data)\n",
    "print(\"numax0 = \", data[\"numax0\"])\n",
    "\n",
    "pds_bgr, oversampled_pds_bgr, data = taco.background_fit(pds, oversampled_pds, data)\n",
    "print(\"Hmax = \", data[\"Hmax\"])"
   ]
  },
  {
   "cell_type": "code",
   "execution_count": null,
   "metadata": {},
   "outputs": [],
   "source": [
    "peaks = taco.peak_find(pds_bgr, oversampled_pds_bgr, data)\n",
    "print(peaks)"
   ]
  },
  {
   "cell_type": "code",
   "execution_count": null,
   "metadata": {},
   "outputs": [],
   "source": [
    "peaks_mle, data = taco.peaks_mle(pds_bgr, peaks, data)\n",
    "\n",
    "peaks_mle, data = taco.peak_bag_mode_id02(pds_bgr, peaks_mle, data)\n",
    "\n",
    "mixed_peaks = taco.peak_find(pds_bgr, oversampled_pds_bgr, peaks = peaks, removel02 = True)\n",
    "\n",
    "peaks, data = taco.peaks_mle(pds_bgr, peaks_mle, data, removel02 = True, mixed_peaks = mixed_peaks)\n",
    "\n",
    "peaks, data = taco.peaks_mle(pds_bgr, peaks, data, finalfit = True)"
   ]
  }
 ],
 "metadata": {
  "kernelspec": {
   "display_name": "Python 3 (ipykernel)",
   "language": "python",
   "name": "python3"
  },
  "language_info": {
   "codemirror_mode": {
    "name": "ipython",
    "version": 3
   },
   "file_extension": ".py",
   "mimetype": "text/x-python",
   "name": "python",
   "nbconvert_exporter": "python",
   "pygments_lexer": "ipython3",
   "version": "3.8.10"
  },
  "vscode": {
   "interpreter": {
    "hash": "31f2aee4e71d21fbe5cf8b01ff0e069b9275f58929596ceb00d14d90e3e16cd6"
   }
  }
 },
 "nbformat": 4,
 "nbformat_minor": 4
}
