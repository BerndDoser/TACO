{
 "cells": [
  {
   "cell_type": "code",
   "execution_count": 1,
   "metadata": {},
   "outputs": [
    {
     "name": "stderr",
     "output_type": "stream",
     "text": [
      "R[write to console]: Loading ifultools version 2.0.23\n",
      "\n"
     ]
    },
    {
     "name": "stdout",
     "output_type": "stream",
     "text": [
      "[1] \"Initial estimation of numax for KIC jupyter\"\n",
      "numax0 =  1    59.333184\n",
      "Name: numax0, dtype: float64\n",
      "KeplerBg3Comp\n",
      "Starting initial MCMC with binned PDS. Number of bins: 300\n"
     ]
    },
    {
     "name": "stderr",
     "output_type": "stream",
     "text": [
      "100%|██████████| 1000/1000 [00:03<00:00, 277.84it/s]\n",
      "100%|██████████| 2000/2000 [00:06<00:00, 290.17it/s]\n",
      " 40%|████      | 2000/5000 [00:21<00:31, 93.80it/s] \n"
     ]
    },
    {
     "name": "stdout",
     "output_type": "stream",
     "text": [
      "Finished initial MCMC with binned PDS\n",
      "MCMC with binned PDS done.\n",
      "Hmax =  1    9907.055312\n",
      "Name: Hmax, dtype: float64\n",
      "[1] \"Maximum peak linewidth (HWHM) not set, therefore taking estimated value  0.366678411976573 uHz\"\n",
      "[1] \"Finding only resolved peaks\"\n",
      "[1] \"Maximum peak linewidth (HWHM) not set, therefore taking estimated value  0.366678411976573 uHz\"\n",
      "[1] \"Getting error estimates\"\n"
     ]
    },
    {
     "ename": "AttributeError",
     "evalue": "module 'taco' has no attribute 'peakBagModeId02'",
     "output_type": "error",
     "traceback": [
      "\u001b[0;31m---------------------------------------------------------------------------\u001b[0m",
      "\u001b[0;31mAttributeError\u001b[0m                            Traceback (most recent call last)",
      "\u001b[1;32m/workspaces/TACO/jupyter/pipeline.ipynb Cell 1\u001b[0m in \u001b[0;36m<cell line: 25>\u001b[0;34m()\u001b[0m\n\u001b[1;32m     <a href='vscode-notebook-cell://dev-container%2B2f686f6d652f646f73657262642f6769742f5441434f/workspaces/TACO/jupyter/pipeline.ipynb#W1sdnNjb2RlLXJlbW90ZQ%3D%3D?line=20'>21</a>\u001b[0m peaks \u001b[39m=\u001b[39m taco\u001b[39m.\u001b[39mpeak_find(pds_bgr, oversampled_pds_bgr, data)\n\u001b[1;32m     <a href='vscode-notebook-cell://dev-container%2B2f686f6d652f646f73657262642f6769742f5441434f/workspaces/TACO/jupyter/pipeline.ipynb#W1sdnNjb2RlLXJlbW90ZQ%3D%3D?line=22'>23</a>\u001b[0m peaks_mle \u001b[39m=\u001b[39m taco\u001b[39m.\u001b[39mpeaks_MLE(pds_bgr, peaks, data)\n\u001b[0;32m---> <a href='vscode-notebook-cell://dev-container%2B2f686f6d652f646f73657262642f6769742f5441434f/workspaces/TACO/jupyter/pipeline.ipynb#W1sdnNjb2RlLXJlbW90ZQ%3D%3D?line=24'>25</a>\u001b[0m peaks_mle, data \u001b[39m=\u001b[39m taco\u001b[39m.\u001b[39;49mpeakBagModeId02(pds_bgr, peaks_mle, data)\n\u001b[1;32m     <a href='vscode-notebook-cell://dev-container%2B2f686f6d652f646f73657262642f6769742f5441434f/workspaces/TACO/jupyter/pipeline.ipynb#W1sdnNjb2RlLXJlbW90ZQ%3D%3D?line=26'>27</a>\u001b[0m mixed_peaks \u001b[39m=\u001b[39m taco\u001b[39m.\u001b[39mpeak_find(pds_bgr, oversampled_pds_bgr, peaks \u001b[39m=\u001b[39m peaks, removel02 \u001b[39m=\u001b[39m \u001b[39mTrue\u001b[39;00m)\n\u001b[1;32m     <a href='vscode-notebook-cell://dev-container%2B2f686f6d652f646f73657262642f6769742f5441434f/workspaces/TACO/jupyter/pipeline.ipynb#W1sdnNjb2RlLXJlbW90ZQ%3D%3D?line=28'>29</a>\u001b[0m peaks \u001b[39m=\u001b[39m taco\u001b[39m.\u001b[39mpeaks_MLE(pds_bgr, peaks_mle, data, removel02 \u001b[39m=\u001b[39m \u001b[39mTrue\u001b[39;00m, mixed_peaks \u001b[39m=\u001b[39m mixed_peaks)\n",
      "\u001b[0;31mAttributeError\u001b[0m: module 'taco' has no attribute 'peakBagModeId02'"
     ]
    }
   ],
   "source": [
    "import sys\n",
    "sys.path.insert(0, '../src')\n",
    "\n",
    "import pandas as pd\n",
    "import plotly.express as px\n",
    "import taco\n",
    "\n",
    "ts_raw = pd.read_csv('../data/001296068.dat', comment = '#', header = None, delim_whitespace = True)\n",
    "ts_filtered, data = taco.filter(ts_raw)\n",
    "\n",
    "pds = taco.calc_pds(ts_filtered)\n",
    "oversampled_pds = taco.calc_pds(ts_filtered, oversample_factor = 2)\n",
    "data[\"nuNyq\"] = pds[\"frequency\"].iloc[-1]\n",
    "\n",
    "data = taco.numax_estimate(pds, data)\n",
    "print(\"numax0 = \", data[\"numax0\"])\n",
    "\n",
    "pds_bgr, oversampled_pds_bgr, data = taco.background_fit(pds, oversampled_pds, data)\n",
    "print(\"Hmax = \", data[\"Hmax\"])\n",
    "\n",
    "peaks = taco.peak_find(pds_bgr, oversampled_pds_bgr, data)\n",
    "\n",
    "peaks_mle = taco.peaks_MLE(pds_bgr, peaks, data)\n",
    "\n",
    "peaks_mle, data = taco.peak_bag_mode_id02(pds_bgr, peaks_mle, data)\n",
    "\n",
    "mixed_peaks = taco.peak_find(pds_bgr, oversampled_pds_bgr, peaks = peaks, removel02 = True)\n",
    "\n",
    "peaks = taco.peaks_mle(pds_bgr, peaks_mle, data, removel02 = True, mixed_peaks = mixed_peaks)\n",
    "\n",
    "peaks = taco.peaks_mle(pds_bgr, peaks, data, finalfit = True)"
   ]
  }
 ],
 "metadata": {
  "kernelspec": {
   "display_name": "Python 3.8.10 64-bit",
   "language": "python",
   "name": "python3"
  },
  "language_info": {
   "codemirror_mode": {
    "name": "ipython",
    "version": 3
   },
   "file_extension": ".py",
   "mimetype": "text/x-python",
   "name": "python",
   "nbconvert_exporter": "python",
   "pygments_lexer": "ipython3",
   "version": "3.8.10"
  },
  "orig_nbformat": 4,
  "vscode": {
   "interpreter": {
    "hash": "31f2aee4e71d21fbe5cf8b01ff0e069b9275f58929596ceb00d14d90e3e16cd6"
   }
  }
 },
 "nbformat": 4,
 "nbformat_minor": 2
}
