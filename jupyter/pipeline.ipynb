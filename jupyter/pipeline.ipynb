{
 "cells": [
  {
   "cell_type": "code",
   "execution_count": 2,
   "metadata": {},
   "outputs": [
    {
     "name": "stdout",
     "output_type": "stream",
     "text": [
      "TacoData(IC=0.0, raw_data=0.0, mean=0.0, variance=0.0, start_date=0.0, end_date=0.0, fill_factor=0.0, nuNyq=0.0, numax0_flag=False, numax_var=0.0, numax_CWTMexHat=0.0, numax_Morlet=0.0, numax0=0.0, Hmax=0.0, Bmax=0.0, HBR=0.0, Pn=0.0, A1=0.0, b1=0.0, A2=0.0, b2=0.0, A3=0.0, b3=0.0, Pg=0.0, numax=0.0, sigmaEnv=0.0, lnprob=0.0, npeaks=0, DeltaNu=0.0, DeltaNu_sd=0.0, dNu02=0.0, eps_p=0.0, eps_p_sd=0.0, alpha=0.0, alpha_sd=0.0, Central_DeltaNu=0.0, Central_DeltaNu_sd=0.0, Central_eps_p=0.0, Central_eps_p_sd=0.0, Central_alpha=0.0, Central_alpha_sd=0.0, gamma0=0.0, modeIDFlag=0)\n"
     ]
    },
    {
     "ename": "TypeError",
     "evalue": "tuple indices must be integers or slices, not str",
     "output_type": "error",
     "traceback": [
      "\u001b[0;31m---------------------------------------------------------------------------\u001b[0m",
      "\u001b[0;31mTypeError\u001b[0m                                 Traceback (most recent call last)",
      "\u001b[1;32m/workspaces/TACO/jupyter/pipeline.ipynb Cell 1\u001b[0m in \u001b[0;36m<cell line: 14>\u001b[0;34m()\u001b[0m\n\u001b[1;32m     <a href='vscode-notebook-cell://dev-container%2B2f686f6d652f6265726e642f6769742f5441434f/workspaces/TACO/jupyter/pipeline.ipynb#W0sdnNjb2RlLXJlbW90ZQ%3D%3D?line=10'>11</a>\u001b[0m ts_raw \u001b[39m=\u001b[39m pd\u001b[39m.\u001b[39mread_csv(\u001b[39m'\u001b[39m\u001b[39m../data/001296068.dat\u001b[39m\u001b[39m'\u001b[39m, comment \u001b[39m=\u001b[39m \u001b[39m'\u001b[39m\u001b[39m#\u001b[39m\u001b[39m'\u001b[39m, header \u001b[39m=\u001b[39m \u001b[39mNone\u001b[39;00m, delim_whitespace\u001b[39m=\u001b[39m\u001b[39mTrue\u001b[39;00m)\n\u001b[1;32m     <a href='vscode-notebook-cell://dev-container%2B2f686f6d652f6265726e642f6769742f5441434f/workspaces/TACO/jupyter/pipeline.ipynb#W0sdnNjb2RlLXJlbW90ZQ%3D%3D?line=11'>12</a>\u001b[0m ts_filtered \u001b[39m=\u001b[39m taco\u001b[39m.\u001b[39mfilter(ts_raw)\n\u001b[0;32m---> <a href='vscode-notebook-cell://dev-container%2B2f686f6d652f6265726e642f6769742f5441434f/workspaces/TACO/jupyter/pipeline.ipynb#W0sdnNjb2RlLXJlbW90ZQ%3D%3D?line=13'>14</a>\u001b[0m pds \u001b[39m=\u001b[39m taco\u001b[39m.\u001b[39;49mcalc_pds(ts_filtered)\n\u001b[1;32m     <a href='vscode-notebook-cell://dev-container%2B2f686f6d652f6265726e642f6769742f5441434f/workspaces/TACO/jupyter/pipeline.ipynb#W0sdnNjb2RlLXJlbW90ZQ%3D%3D?line=14'>15</a>\u001b[0m oversampled_pds \u001b[39m=\u001b[39m taco\u001b[39m.\u001b[39mcalc_pds(ts_filtered, oversample_factor \u001b[39m=\u001b[39m \u001b[39m2\u001b[39m)\n\u001b[1;32m     <a href='vscode-notebook-cell://dev-container%2B2f686f6d652f6265726e642f6769742f5441434f/workspaces/TACO/jupyter/pipeline.ipynb#W0sdnNjb2RlLXJlbW90ZQ%3D%3D?line=16'>17</a>\u001b[0m nyquist \u001b[39m=\u001b[39m pds[\u001b[39m\"\u001b[39m\u001b[39mfrequency\u001b[39m\u001b[39m\"\u001b[39m]\u001b[39m.\u001b[39miloc[\u001b[39m-\u001b[39m\u001b[39m1\u001b[39m]\n",
      "File \u001b[0;32m/workspaces/TACO/jupyter/../src/taco/pds.py:51\u001b[0m, in \u001b[0;36mcalc_pds\u001b[0;34m(ts, oversample_factor, output, output_directory)\u001b[0m\n\u001b[1;32m     32\u001b[0m \u001b[39m\"\"\"\u001b[39;00m\n\u001b[1;32m     33\u001b[0m \u001b[39mCalculating a Lomb-Scargle periodogram.\u001b[39;00m\n\u001b[1;32m     34\u001b[0m \n\u001b[0;32m   (...)\u001b[0m\n\u001b[1;32m     46\u001b[0m \u001b[39m            Name: power, dtype: float\u001b[39;00m\n\u001b[1;32m     47\u001b[0m \u001b[39m\"\"\"\u001b[39;00m\n\u001b[1;32m     49\u001b[0m \u001b[39m# Add change in here so that checks to see if data in ppm or normalized flux already\u001b[39;00m\n\u001b[1;32m     50\u001b[0m \u001b[39m# Basically check if standard deviation is very small and mean is close to 1\u001b[39;00m\n\u001b[0;32m---> 51\u001b[0m \u001b[39mif\u001b[39;00m (np\u001b[39m.\u001b[39mstd(ts[\u001b[39m\"\u001b[39;49m\u001b[39mflux\u001b[39;49m\u001b[39m\"\u001b[39;49m]) \u001b[39m<\u001b[39m \u001b[39m1\u001b[39m) \u001b[39mand\u001b[39;00m (np\u001b[39m.\u001b[39mabs(np\u001b[39m.\u001b[39mmean(ts[\u001b[39m\"\u001b[39m\u001b[39mflux\u001b[39m\u001b[39m\"\u001b[39m]) \u001b[39m-\u001b[39m \u001b[39m1\u001b[39m) \u001b[39m<\u001b[39m \u001b[39m0.1\u001b[39m):\n\u001b[1;32m     52\u001b[0m     \u001b[39m# Create lightkurve lightcurve from data - flux needs to be normalized about 1\u001b[39;00m\n\u001b[1;32m     53\u001b[0m     lc \u001b[39m=\u001b[39m lk\u001b[39m.\u001b[39mLightCurve(time\u001b[39m=\u001b[39mts[\u001b[39m\"\u001b[39m\u001b[39mtime\u001b[39m\u001b[39m\"\u001b[39m], flux\u001b[39m=\u001b[39mts[\u001b[39m\"\u001b[39m\u001b[39mflux\u001b[39m\u001b[39m\"\u001b[39m])\u001b[39m.\u001b[39mnormalize(unit\u001b[39m=\u001b[39m\u001b[39m\"\u001b[39m\u001b[39mppm\u001b[39m\u001b[39m\"\u001b[39m)\n\u001b[1;32m     54\u001b[0m \u001b[39melif\u001b[39;00m (np\u001b[39m.\u001b[39mstd(ts[\u001b[39m\"\u001b[39m\u001b[39mflux\u001b[39m\u001b[39m\"\u001b[39m]) \u001b[39m<\u001b[39m \u001b[39m1\u001b[39m) \u001b[39mand\u001b[39;00m (np\u001b[39m.\u001b[39mabs(np\u001b[39m.\u001b[39mmean(ts[\u001b[39m\"\u001b[39m\u001b[39mflux\u001b[39m\u001b[39m\"\u001b[39m]) \u001b[39m-\u001b[39m \u001b[39m0.0\u001b[39m) \u001b[39m<\u001b[39m \u001b[39m0.1\u001b[39m):\n\u001b[1;32m     55\u001b[0m     \u001b[39m# Create lightkurve lightcurve from data - flux needs to be normalized about 1\u001b[39;00m\n",
      "\u001b[0;31mTypeError\u001b[0m: tuple indices must be integers or slices, not str"
     ]
    }
   ],
   "source": [
    "import sys\n",
    "sys.path.insert(0, '../src')\n",
    "\n",
    "import pandas as pd\n",
    "import plotly.express as px\n",
    "import taco\n",
    "\n",
    "ts_raw = pd.read_csv('../data/001296068.dat', comment = '#', header = None, delim_whitespace=True)\n",
    "ts_filtered, data = taco.filter(ts_raw)\n",
    "\n",
    "pds = taco.calc_pds(ts_filtered)\n",
    "oversampled_pds = taco.calc_pds(ts_filtered, oversample_factor = 2)\n",
    "\n",
    "nyquist = pds[\"frequency\"].iloc[-1]\n",
    "print(\"Nyquist = \", nyquist)\n",
    "\n",
    "numax0 = taco.numax_estimate(pds, variance, nyquist)\n",
    "print(\"numax0 = \", numax0)\n",
    "\n",
    "Hmax, Bmax, HBR = taco.background_fit(pds, numax0, nyquist)\n",
    "print(\"Hmax = \", Hmax)\n",
    "    \n",
    "peaks = taco.peak_find(pds, oversampled_pds)\n",
    "peaksMLE = taco.peaksMLE(pds, peaks, mixed_peaks)\n",
    "taco.peakBagModeId02()\n",
    "mixed_peaks = taco.peak_find(pds, oversampled_pds, init = peaks, removel02 = True)\n",
    "taco.peaksMLE(removel02 = True, init = peaksMLE, mixed_peaks = mixed_peaks)\n",
    "taco.peaksMLE(finalfit = True)"
   ]
  }
 ],
 "metadata": {
  "kernelspec": {
   "display_name": "Python 3.8.10 64-bit",
   "language": "python",
   "name": "python3"
  },
  "language_info": {
   "codemirror_mode": {
    "name": "ipython",
    "version": 3
   },
   "file_extension": ".py",
   "mimetype": "text/x-python",
   "name": "python",
   "nbconvert_exporter": "python",
   "pygments_lexer": "ipython3",
   "version": "3.8.10"
  },
  "orig_nbformat": 4,
  "vscode": {
   "interpreter": {
    "hash": "31f2aee4e71d21fbe5cf8b01ff0e069b9275f58929596ceb00d14d90e3e16cd6"
   }
  }
 },
 "nbformat": 4,
 "nbformat_minor": 2
}
