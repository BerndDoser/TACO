{
 "cells": [
  {
   "cell_type": "code",
   "execution_count": 1,
   "metadata": {},
   "outputs": [
    {
     "ename": "ModuleNotFoundError",
     "evalue": "No module named 'sloscillations'",
     "output_type": "error",
     "traceback": [
      "\u001b[0;31m---------------------------------------------------------------------------\u001b[0m",
      "\u001b[0;31mModuleNotFoundError\u001b[0m                       Traceback (most recent call last)",
      "Cell \u001b[0;32mIn [1], line 5\u001b[0m\n\u001b[1;32m      2\u001b[0m sys\u001b[38;5;241m.\u001b[39mpath\u001b[38;5;241m.\u001b[39minsert(\u001b[38;5;241m0\u001b[39m, \u001b[38;5;124m'\u001b[39m\u001b[38;5;124m../src\u001b[39m\u001b[38;5;124m'\u001b[39m)\n\u001b[1;32m      4\u001b[0m \u001b[38;5;28;01mimport\u001b[39;00m \u001b[38;5;21;01mpandas\u001b[39;00m \u001b[38;5;28;01mas\u001b[39;00m \u001b[38;5;21;01mpd\u001b[39;00m\n\u001b[0;32m----> 5\u001b[0m \u001b[38;5;28;01mimport\u001b[39;00m \u001b[38;5;21;01mtaco\u001b[39;00m\n\u001b[1;32m      7\u001b[0m ts_raw \u001b[38;5;241m=\u001b[39m pd\u001b[38;5;241m.\u001b[39mread_csv(\u001b[38;5;124m'\u001b[39m\u001b[38;5;124m../data/001296068.dat\u001b[39m\u001b[38;5;124m'\u001b[39m, comment \u001b[38;5;241m=\u001b[39m \u001b[38;5;124m'\u001b[39m\u001b[38;5;124m#\u001b[39m\u001b[38;5;124m'\u001b[39m, header \u001b[38;5;241m=\u001b[39m \u001b[38;5;28;01mNone\u001b[39;00m, delim_whitespace \u001b[38;5;241m=\u001b[39m \u001b[38;5;28;01mTrue\u001b[39;00m)\n\u001b[1;32m      8\u001b[0m ts_filtered, data \u001b[38;5;241m=\u001b[39m taco\u001b[38;5;241m.\u001b[39mfilter(ts_raw)\n",
      "File \u001b[0;32m/workspaces/TACO/jupyter/../src/taco/__init__.py:10\u001b[0m\n\u001b[1;32m      8\u001b[0m \u001b[39mfrom\u001b[39;00m \u001b[39m.\u001b[39;00m\u001b[39mpeaks_mle\u001b[39;00m \u001b[39mimport\u001b[39;00m peaks_mle\n\u001b[1;32m      9\u001b[0m \u001b[39mfrom\u001b[39;00m \u001b[39m.\u001b[39;00m\u001b[39mpeak_bag_mode_id02\u001b[39;00m \u001b[39mimport\u001b[39;00m peak_bag_mode_id02\n\u001b[0;32m---> 10\u001b[0m \u001b[39mfrom\u001b[39;00m \u001b[39m.\u001b[39;00m\u001b[39mpeak_bag_period_spacing\u001b[39;00m \u001b[39mimport\u001b[39;00m peak_bag_period_spacing\n\u001b[1;32m     12\u001b[0m \u001b[39m__doc__\u001b[39m \u001b[39m=\u001b[39m \u001b[39m\"\"\"\u001b[39m\n\u001b[1;32m     13\u001b[0m \u001b[39mTACO - Tools for Automated Characterisation of Oscillations\u001b[39m\n\u001b[1;32m     14\u001b[0m \u001b[39m===========================================================\u001b[39m\n\u001b[0;32m   (...)\u001b[0m\n\u001b[1;32m     19\u001b[0m \u001b[39mmodes.\u001b[39m\n\u001b[1;32m     20\u001b[0m \u001b[39m\"\"\"\u001b[39m\n\u001b[1;32m     22\u001b[0m __all__ \u001b[39m=\u001b[39m [\n\u001b[1;32m     23\u001b[0m     \u001b[39m\"\u001b[39m\u001b[39mfilter\u001b[39m\u001b[39m\"\u001b[39m,\n\u001b[1;32m     24\u001b[0m     \u001b[39m\"\u001b[39m\u001b[39mpds\u001b[39m\u001b[39m\"\u001b[39m,\n\u001b[0;32m   (...)\u001b[0m\n\u001b[1;32m     30\u001b[0m     \u001b[39m\"\u001b[39m\u001b[39mpeak_bag_period_spacing\u001b[39m\u001b[39m\"\u001b[39m,\n\u001b[1;32m     31\u001b[0m ]\n",
      "File \u001b[0;32m/workspaces/TACO/jupyter/../src/taco/peak_bag_period_spacing.py:18\u001b[0m\n\u001b[1;32m     16\u001b[0m \u001b[39mfrom\u001b[39;00m \u001b[39mloguru\u001b[39;00m \u001b[39mimport\u001b[39;00m logger\n\u001b[1;32m     17\u001b[0m \u001b[39mfrom\u001b[39;00m \u001b[39mscipy\u001b[39;00m\u001b[39m.\u001b[39;00m\u001b[39mstats\u001b[39;00m \u001b[39mimport\u001b[39;00m chi2\n\u001b[0;32m---> 18\u001b[0m \u001b[39mfrom\u001b[39;00m \u001b[39msloscillations\u001b[39;00m \u001b[39mimport\u001b[39;00m frequencies, mixed_modes_utils\n\u001b[1;32m     19\u001b[0m \u001b[39mfrom\u001b[39;00m \u001b[39mtqdm\u001b[39;00m \u001b[39mimport\u001b[39;00m tqdm\n\u001b[1;32m     22\u001b[0m \u001b[39m#' It is assumed that DeltaNu is in μHz\u001b[39;00m\n",
      "\u001b[0;31mModuleNotFoundError\u001b[0m: No module named 'sloscillations'"
     ]
    }
   ],
   "source": [
    "import pandas as pd\n",
    "import taco\n",
    "\n",
    "ts_raw = pd.read_csv('data/001296068.dat', comment = '#', header = None, delim_whitespace = True)\n",
    "ts_filtered, data = taco.filter(ts_raw)\n",
    "\n",
    "pds = taco.calc_pds(ts_filtered)\n",
    "oversampled_pds = taco.calc_pds(ts_filtered, oversample_factor = 2)\n",
    "\n",
    "data[\"nuNyq\"] = pds[\"frequency\"].iloc[-1]\n",
    "print(\"nuNyq = \", data[\"nuNyq\"][0])"
   ]
  },
  {
   "cell_type": "code",
   "execution_count": null,
   "metadata": {},
   "outputs": [],
   "source": [
    "import plotly.express as px\n",
    "\n",
    "fig = px.line(pds, x = 'frequency', y = 'power')\n",
    "fig.show()"
   ]
  },
  {
   "cell_type": "code",
   "execution_count": null,
   "metadata": {},
   "outputs": [],
   "source": [
    "data = taco.numax_estimate(pds, data)\n",
    "print(\"numax0 = \", data[\"numax0\"])\n",
    "\n",
    "pds_bgr, oversampled_pds_bgr, data = taco.background_fit(pds, oversampled_pds, data)\n",
    "print(\"Hmax = \", data[\"Hmax\"])"
   ]
  },
  {
   "cell_type": "code",
   "execution_count": null,
   "metadata": {},
   "outputs": [],
   "source": [
    "peaks = taco.peak_find(pds_bgr, oversampled_pds_bgr, data)\n",
    "print(peaks)"
   ]
  },
  {
   "cell_type": "code",
   "execution_count": null,
   "metadata": {},
   "outputs": [],
   "source": [
    "peaks_mle, data = taco.peaks_mle(pds_bgr, peaks, data)\n",
    "\n",
    "peaks_mle, data = taco.peak_bag_mode_id02(pds_bgr, peaks_mle, data)\n",
    "\n",
    "mixed_peaks = taco.peak_find(pds_bgr, oversampled_pds_bgr, peaks = peaks, removel02 = True)\n",
    "\n",
    "peaks, data = taco.peaks_mle(pds_bgr, peaks_mle, data, removel02 = True, mixed_peaks = mixed_peaks)\n",
    "\n",
    "peaks, data = taco.peaks_mle(pds_bgr, peaks, data, finalfit = True)"
   ]
  }
 ],
 "metadata": {
  "kernelspec": {
   "display_name": "Python 3 (ipykernel)",
   "language": "python",
   "name": "python3"
  },
  "language_info": {
   "codemirror_mode": {
    "name": "ipython",
    "version": 3
   },
   "file_extension": ".py",
   "mimetype": "text/x-python",
   "name": "python",
   "nbconvert_exporter": "python",
   "pygments_lexer": "ipython3",
   "version": "3.8.10"
  },
  "vscode": {
   "interpreter": {
    "hash": "31f2aee4e71d21fbe5cf8b01ff0e069b9275f58929596ceb00d14d90e3e16cd6"
   }
  }
 },
 "nbformat": 4,
 "nbformat_minor": 4
}
