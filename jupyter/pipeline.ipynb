{
 "cells": [
  {
   "cell_type": "code",
   "execution_count": 1,
   "metadata": {},
   "outputs": [
    {
     "name": "stderr",
     "output_type": "stream",
     "text": [
      "R[write to console]: Loading ifultools version 2.0.23\n",
      "\n"
     ]
    },
    {
     "name": "stdout",
     "output_type": "stream",
     "text": [
      "[1] \"Initial estimation of numax for KIC jupyter\"\n",
      "          KIC    raw_data      mean            var    start_date  \\\n",
      "1 -2147483648 -2147483648  0.710706  289512.998778  54953.539258   \n",
      "\n",
      "       end_date  fill_factor       nuNyq  numax0_flag  numax_var  \\\n",
      "1  56204.322686     0.459576  283.211388            0  43.961063   \n",
      "\n",
      "   numax_CWTMexHat  numax_Morlet     numax0  \n",
      "1        61.424466     59.333184  59.333184  \n",
      "KeplerBg3Comp\n",
      "Starting initial MCMC with binned PDS. Number of bins: 300\n"
     ]
    },
    {
     "name": "stderr",
     "output_type": "stream",
     "text": [
      "100%|██████████| 1000/1000 [00:03<00:00, 267.74it/s]\n",
      "100%|██████████| 2000/2000 [00:07<00:00, 263.45it/s]\n",
      " 30%|███       | 1500/5000 [00:16<00:38, 89.94it/s] \n"
     ]
    },
    {
     "name": "stdout",
     "output_type": "stream",
     "text": [
      "Finished initial MCMC with binned PDS\n",
      "MCMC with binned PDS done.\n",
      "          KIC    raw_data      mean            var    start_date  \\\n",
      "1 -2147483648 -2147483648  0.710706  289512.998778  54953.539258   \n",
      "\n",
      "       end_date  fill_factor       nuNyq  numax0_flag  numax_var  ...  \\\n",
      "1  56204.322686     0.459576  283.211388            0  43.961063  ...   \n",
      "\n",
      "             A1        b1            A2         b2          A3         b3  \\\n",
      "1  36955.338955  2.549347  31348.368428  15.116897  7493.50592  54.136135   \n",
      "\n",
      "            Pg      numax  sigmaEnv         lnprob  \n",
      "1  7299.399434  59.895497  8.947616 -247908.496872  \n",
      "\n",
      "[1 rows x 27 columns]\n",
      "[1] \"Maximum peak linewidth (HWHM) not set, therefore taking estimated value  0.365974082750012 uHz\"\n",
      "[1] \"Finding only resolved peaks\"\n",
      "     frequency  linewidth        height           snr          AIC  amplitude\n",
      "1    33.132013   0.029566  10430.826761  13959.066002  2731.243603  31.126628\n",
      "2    33.340215   0.008916   8147.184101   5757.005038   120.936750  15.106792\n",
      "3    33.455884   0.027542  13830.287594  18086.055483  2197.410885  34.593130\n",
      "4    33.668713   0.017308  12560.550947  12823.997294   699.330985  26.133513\n",
      "5    33.802888   0.013143  11562.982644  10182.053725   410.682370  21.850060\n",
      "..         ...        ...           ...           ...          ...        ...\n",
      "212  85.594502   0.025511   2186.963583   2507.867493   769.179920  13.239251\n",
      "213  85.913747   0.043581   1758.653997   2639.212885  2413.478209  15.517156\n",
      "214  86.177470   0.023473   1383.739151   1485.176790   635.488995  10.101600\n",
      "215  86.362540   0.015232   1080.161348    913.562175   233.640686   7.189390\n",
      "216  86.538355   0.029566   2727.216071   3415.106728  3783.000622  15.915947\n",
      "\n",
      "[216 rows x 6 columns]\n"
     ]
    }
   ],
   "source": [
    "import sys\n",
    "sys.path.insert(0, '../src')\n",
    "\n",
    "import pandas as pd\n",
    "import plotly.express as px\n",
    "import taco\n",
    "\n",
    "ts_raw = pd.read_csv('../data/001296068.dat', comment = '#', header = None, delim_whitespace = True)\n",
    "ts_filtered, data = taco.filter(ts_raw)\n",
    "\n",
    "pds = taco.calc_pds(ts_filtered)\n",
    "oversampled_pds = taco.calc_pds(ts_filtered, oversample_factor = 2)\n",
    "data[\"nuNyq\"] = pds[\"frequency\"].iloc[-1]\n",
    "\n",
    "data = taco.numax_estimate(pds, data)\n",
    "print(data)\n",
    "\n",
    "pds_bgr, oversampled_pds_bgr, data = taco.background_fit(pds, oversampled_pds, data)\n",
    "print(data)\n",
    "\n",
    "peaks = taco.peak_find(pds_bgr, oversampled_pds_bgr, data)\n",
    "print(peaks)\n",
    "\n",
    "peaks = taco.peaks_MLE(pds_bgr, peaks)\n",
    "print(peaks)\n",
    "\n",
    "# taco.peakBagModeId02()\n",
    "# mixed_peaks = taco.peak_find(pds, oversampled_pds, init = peaks, removel02 = True)\n",
    "# taco.peaksMLE(removel02 = True, init = peaksMLE, mixed_peaks = mixed_peaks)\n",
    "# taco.peaksMLE(finalfit = True)"
   ]
  }
 ],
 "metadata": {
  "kernelspec": {
   "display_name": "Python 3.8.10 64-bit",
   "language": "python",
   "name": "python3"
  },
  "language_info": {
   "codemirror_mode": {
    "name": "ipython",
    "version": 3
   },
   "file_extension": ".py",
   "mimetype": "text/x-python",
   "name": "python",
   "nbconvert_exporter": "python",
   "pygments_lexer": "ipython3",
   "version": "3.8.10"
  },
  "orig_nbformat": 4,
  "vscode": {
   "interpreter": {
    "hash": "31f2aee4e71d21fbe5cf8b01ff0e069b9275f58929596ceb00d14d90e3e16cd6"
   }
  }
 },
 "nbformat": 4,
 "nbformat_minor": 2
}
