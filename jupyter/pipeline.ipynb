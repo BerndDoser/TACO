{
 "cells": [
  {
   "cell_type": "code",
   "execution_count": 1,
   "metadata": {},
   "outputs": [
    {
     "name": "stderr",
     "output_type": "stream",
     "text": [
      "R[write to console]: Loading ifultools version 2.0.23\n",
      "\n"
     ]
    },
    {
     "name": "stdout",
     "output_type": "stream",
     "text": [
      "[1] \"Initial estimation of numax for KIC jupyter\"\n",
      "numax0 =  1    59.333184\n",
      "Name: numax0, dtype: float64\n",
      "KeplerBg3Comp\n",
      "Starting initial MCMC with binned PDS. Number of bins: 300\n"
     ]
    },
    {
     "name": "stderr",
     "output_type": "stream",
     "text": [
      "100%|██████████| 1000/1000 [00:09<00:00, 109.35it/s]\n",
      "100%|██████████| 2000/2000 [00:19<00:00, 101.02it/s]\n",
      " 30%|███       | 1500/5000 [00:40<01:35, 36.61it/s] \n"
     ]
    },
    {
     "name": "stdout",
     "output_type": "stream",
     "text": [
      "Finished initial MCMC with binned PDS\n",
      "MCMC with binned PDS done.\n",
      "Hmax =  1    10418.356529\n",
      "Name: Hmax, dtype: float64\n",
      "[1] \"Maximum peak linewidth (HWHM) not set, therefore taking estimated value  0.365680644873371 uHz\"\n",
      "[1] \"Finding only resolved peaks\"\n",
      "    frequency  linewidth     height        snr          AIC  amplitude\n",
      "1   34.034225   0.023473   4.263442   3.436481     4.620201   0.560716\n",
      "2   35.329709   0.015232   3.430895   2.182433     4.484657   0.405183\n",
      "3   40.442246   0.013143   3.090378   1.810604     3.619507   0.357210\n",
      "4   41.344458   0.019372   5.127527   3.772729    27.049963   0.558626\n",
      "5   43.301565   0.004593   8.588387   3.055953     6.209982   0.352046\n",
      "6   44.236164   0.051493   5.462092   6.719160    42.075108   0.940003\n",
      "7   46.651317   0.067162   2.491103   3.386479    15.326197   0.724992\n",
      "8   47.322193   0.072993   8.664080  13.085265   229.569515   1.409542\n",
      "9   49.168258   0.061308   4.992190   6.697347    41.724231   0.980571\n",
      "10  49.950176   0.088446   8.866975  14.822057   269.166758   1.569642\n",
      "11  53.235154   0.137920  13.689540  29.490730   786.170927   2.435470\n",
      "12  55.270915   0.072993  18.746828  29.416345   550.602290   2.073389\n",
      "13  56.140740   0.055428  30.421122  42.342761   762.754279   2.301594\n",
      "14  59.370198   0.126586  34.312513  73.969654  2562.718266   3.693980\n",
      "15  61.424466   0.067162  31.068434  47.857637   882.801966   2.560336\n",
      "16  62.257277   0.061308  41.653742  62.072001  1227.224981   2.832437\n",
      "17  64.727951   0.033596   2.932370   2.798248    19.324568   0.556324\n",
      "18  65.037942   0.017308   4.643099   3.205124    25.911484   0.502455\n",
      "19  65.185997   0.004593  12.575830   4.560099     4.148542   0.426002\n",
      "20  65.315545   0.025511  17.531229  15.829629   240.391378   1.185356\n",
      "21  65.560762   0.033596  25.550304  27.140960   581.521963   1.642164\n",
      "22  65.750458   0.013143   8.750177   5.397765    18.941389   0.601071\n",
      "23  65.838366   0.006771   7.896096   3.426775     5.198419   0.409825\n",
      "24  65.912394   0.004593  11.023192   3.971099     8.874715   0.398839\n",
      "25  66.028062   0.019372   3.755316   2.720793    20.795147   0.478069\n",
      "26  67.517869   0.067162   4.620294   6.476086    67.017559   0.987352\n",
      "27  68.424708   0.115207  13.515353  26.485831   725.383992   2.211708\n",
      "28  71.751327   0.262225   5.484222  15.796041   533.183676   2.125543\n",
      "29  73.958277   0.105685   6.248735  11.267040   252.008595   1.440383\n",
      "30  74.828102   0.072993   6.822203  10.182260   173.627203   1.250775\n",
      "31  77.664287   0.021427   3.575057   2.723658    16.077186   0.490570\n",
      "32  77.978905   0.015232   4.255838   2.736232     6.644777   0.451274\n",
      "33  78.103827   0.017308  14.852458  10.860370    97.015147   0.898654\n",
      "34  79.718556   0.021427   3.906867   2.989560     9.351722   0.512830\n",
      "35  80.310777   0.080736   3.624555   5.526500    88.422425   0.958819\n",
      "36  81.000160   0.080736   2.318725   3.458093    22.181576   0.766891\n",
      "37  82.892492   0.011039   4.327399   2.353366     3.552466   0.387389\n",
      "38  83.618889   0.017308   4.205878   2.889126     3.416673   0.478213\n",
      "39  84.224990   0.029566   1.899491   1.659469     6.655575   0.420041\n",
      "40  84.391553   0.004593   5.841935   2.039406     2.377240   0.290350\n"
     ]
    },
    {
     "ename": "TypeError",
     "evalue": "peaks_MLE() missing 1 required positional argument: 'data'",
     "output_type": "error",
     "traceback": [
      "\u001b[0;31m---------------------------------------------------------------------------\u001b[0m",
      "\u001b[0;31mTypeError\u001b[0m                                 Traceback (most recent call last)",
      "\u001b[1;32m/workspaces/TACO/jupyter/pipeline.ipynb Cell 1\u001b[0m in \u001b[0;36m<cell line: 24>\u001b[0;34m()\u001b[0m\n\u001b[1;32m     <a href='vscode-notebook-cell://dev-container%2B2f686f6d652f6265726e642f6769742f5441434f/workspaces/TACO/jupyter/pipeline.ipynb#W1sdnNjb2RlLXJlbW90ZQ%3D%3D?line=20'>21</a>\u001b[0m peaks \u001b[39m=\u001b[39m taco\u001b[39m.\u001b[39mpeak_find(pds_bgr, oversampled_pds_bgr, data)\n\u001b[1;32m     <a href='vscode-notebook-cell://dev-container%2B2f686f6d652f6265726e642f6769742f5441434f/workspaces/TACO/jupyter/pipeline.ipynb#W1sdnNjb2RlLXJlbW90ZQ%3D%3D?line=21'>22</a>\u001b[0m \u001b[39mprint\u001b[39m(peaks)\n\u001b[0;32m---> <a href='vscode-notebook-cell://dev-container%2B2f686f6d652f6265726e642f6769742f5441434f/workspaces/TACO/jupyter/pipeline.ipynb#W1sdnNjb2RlLXJlbW90ZQ%3D%3D?line=23'>24</a>\u001b[0m peaks_mle \u001b[39m=\u001b[39m taco\u001b[39m.\u001b[39;49mpeaks_MLE(pds_bgr, peaks)\n\u001b[1;32m     <a href='vscode-notebook-cell://dev-container%2B2f686f6d652f6265726e642f6769742f5441434f/workspaces/TACO/jupyter/pipeline.ipynb#W1sdnNjb2RlLXJlbW90ZQ%3D%3D?line=25'>26</a>\u001b[0m peaks, data \u001b[39m=\u001b[39m taco\u001b[39m.\u001b[39mpeakBagModeId02(pds_bgr, peaks, data)\n\u001b[1;32m     <a href='vscode-notebook-cell://dev-container%2B2f686f6d652f6265726e642f6769742f5441434f/workspaces/TACO/jupyter/pipeline.ipynb#W1sdnNjb2RlLXJlbW90ZQ%3D%3D?line=27'>28</a>\u001b[0m mixed_peaks \u001b[39m=\u001b[39m taco\u001b[39m.\u001b[39mpeak_find(pds_bgr, oversampled_pds_bgr, init \u001b[39m=\u001b[39m peaks, removel02 \u001b[39m=\u001b[39m \u001b[39mTrue\u001b[39;00m)\n",
      "\u001b[0;31mTypeError\u001b[0m: peaks_MLE() missing 1 required positional argument: 'data'"
     ]
    }
   ],
   "source": [
    "import sys\n",
    "sys.path.insert(0, '../src')\n",
    "\n",
    "import pandas as pd\n",
    "import plotly.express as px\n",
    "import taco\n",
    "\n",
    "ts_raw = pd.read_csv('../data/001296068.dat', comment = '#', header = None, delim_whitespace = True)\n",
    "ts_filtered, data = taco.filter(ts_raw)\n",
    "\n",
    "pds = taco.calc_pds(ts_filtered)\n",
    "oversampled_pds = taco.calc_pds(ts_filtered, oversample_factor = 2)\n",
    "data[\"nuNyq\"] = pds[\"frequency\"].iloc[-1]\n",
    "\n",
    "data = taco.numax_estimate(pds, data)\n",
    "print(\"numax0 = \", data[\"numax0\"])\n",
    "\n",
    "pds_bgr, oversampled_pds_bgr, data = taco.background_fit(pds, oversampled_pds, data)\n",
    "print(\"Hmax = \", data[\"Hmax\"])\n",
    "\n",
    "peaks = taco.peak_find(pds_bgr, oversampled_pds_bgr, data)\n",
    "\n",
    "peaks_mle = taco.peaks_MLE(pds_bgr, peaks, data)\n",
    "\n",
    "peaks_mle, data = taco.peakBagModeId02(pds_bgr, peaks_mle, data)\n",
    "\n",
    "mixed_peaks = taco.peak_find(pds_bgr, oversampled_pds_bgr, peaks = peaks, removel02 = True)\n",
    "\n",
    "peaks = taco.peaks_MLE(pds_bgr, peaks_mle, data, removel02 = True, mixed_peaks = mixed_peaks)\n",
    "\n",
    "peaks = taco.peaks_MLE(pds_bgr, peaks, data, finalfit = True)"
   ]
  }
 ],
 "metadata": {
  "kernelspec": {
   "display_name": "Python 3.8.10 64-bit",
   "language": "python",
   "name": "python3"
  },
  "language_info": {
   "codemirror_mode": {
    "name": "ipython",
    "version": 3
   },
   "file_extension": ".py",
   "mimetype": "text/x-python",
   "name": "python",
   "nbconvert_exporter": "python",
   "pygments_lexer": "ipython3",
   "version": "3.8.10"
  },
  "orig_nbformat": 4,
  "vscode": {
   "interpreter": {
    "hash": "31f2aee4e71d21fbe5cf8b01ff0e069b9275f58929596ceb00d14d90e3e16cd6"
   }
  }
 },
 "nbformat": 4,
 "nbformat_minor": 2
}
