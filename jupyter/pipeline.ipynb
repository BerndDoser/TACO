{
 "cells": [
  {
   "cell_type": "code",
   "execution_count": null,
   "metadata": {},
   "outputs": [],
   "source": [
    "import sys\n",
    "sys.path.insert(0, '../src')\n",
    "\n",
    "import pandas as pd\n",
    "import plotly.express as px\n",
    "import taco\n",
    "\n",
    "ts_raw = pd.read_csv('../data/001296068.dat', comment = '#', header = None, delim_whitespace=True)\n",
    "ts_filtered, variance = taco.filter(ts_raw)\n",
    "\n",
    "pds = taco.calc_pds(ts_filtered)\n",
    "oversampled_pds = taco.calc_pds(ts_filtered, oversample_factor = 2)\n",
    "\n",
    "nyquist = pds[\"frequency\"].iloc[-1]\n",
    "print(\"Nyquist = \", nyquist)\n",
    "\n",
    "numax0 = taco.numax_estimate(pds, variance, nyquist)\n",
    "print(\"numax0 = \", numax0)\n",
    "\n",
    "Hmax, Bmax, HBR = taco.background_fit(pds, numax0, nyquist)\n",
    "print(\"Hmax = \", Hmax)\n",
    "    \n",
    "peaks = taco.peak_find(pds, oversampled_pds)\n",
    "peaksMLE = taco.peaksMLE(pds, peaks, mixed_peaks)\n",
    "taco.peakBagModeId02()\n",
    "mixed_peaks = taco.peak_find(pds, oversampled_pds, init = peaks, removel02 = True)\n",
    "taco.peaksMLE(removel02 = True, init = peaksMLE, mixed_peaks = mixed_peaks)\n",
    "taco.peaksMLE(finalfit = True)"
   ]
  }
 ],
 "metadata": {
  "kernelspec": {
   "display_name": "Python 3.8.10 64-bit",
   "language": "python",
   "name": "python3"
  },
  "language_info": {
   "codemirror_mode": {
    "name": "ipython",
    "version": 3
   },
   "file_extension": ".py",
   "mimetype": "text/x-python",
   "name": "python",
   "nbconvert_exporter": "python",
   "pygments_lexer": "ipython3",
   "version": "3.8.10"
  },
  "orig_nbformat": 4,
  "vscode": {
   "interpreter": {
    "hash": "31f2aee4e71d21fbe5cf8b01ff0e069b9275f58929596ceb00d14d90e3e16cd6"
   }
  }
 },
 "nbformat": 4,
 "nbformat_minor": 2
}
