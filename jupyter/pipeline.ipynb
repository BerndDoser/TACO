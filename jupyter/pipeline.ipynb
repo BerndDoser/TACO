{
 "cells": [
  {
   "cell_type": "code",
   "execution_count": 1,
   "metadata": {},
   "outputs": [
    {
     "name": "stderr",
     "output_type": "stream",
     "text": [
      "R[write to console]: Loading ifultools version 2.0.23\n",
      "\n"
     ]
    },
    {
     "name": "stdout",
     "output_type": "stream",
     "text": [
      "[1] \"Initial estimation of numax for KIC jupyter\"\n",
      "          KIC    raw_data      mean            var    start_date  \\\n",
      "1 -2147483648 -2147483648  0.710706  289512.998778  54953.539258   \n",
      "\n",
      "       end_date  fill_factor       nuNyq  numax0_flag  numax_var  \\\n",
      "1  56204.322686     0.459576  283.211388            0  43.961063   \n",
      "\n",
      "   numax_CWTMexHat  numax_Morlet     numax0  \n",
      "1        61.424466     59.333184  59.333184  \n",
      "KeplerBg3Comp\n",
      "Starting initial MCMC with binned PDS. Number of bins: 300\n"
     ]
    },
    {
     "name": "stderr",
     "output_type": "stream",
     "text": [
      "100%|██████████| 1000/1000 [00:09<00:00, 103.64it/s]\n",
      "100%|██████████| 2000/2000 [00:17<00:00, 117.22it/s]\n",
      " 50%|█████     | 2500/5000 [00:58<00:58, 42.91it/s] \n"
     ]
    },
    {
     "name": "stdout",
     "output_type": "stream",
     "text": [
      "Finished initial MCMC with binned PDS\n",
      "MCMC with binned PDS done.\n",
      "          KIC    raw_data      mean            var    start_date  \\\n",
      "1 -2147483648 -2147483648  0.710706  289512.998778  54953.539258   \n",
      "\n",
      "       end_date  fill_factor       nuNyq  numax0_flag  numax_var  ...  \\\n",
      "1  56204.322686     0.459576  283.211388            0  43.961063  ...   \n",
      "\n",
      "             A1        b1            A2         b2           A3         b3  \\\n",
      "1  35911.903339  2.708942  30867.779095  15.278918  7703.750555  53.736153   \n",
      "\n",
      "            Pg      numax  sigmaEnv         lnprob  \n",
      "1  7293.033945  59.953938   8.85993 -247909.715434  \n",
      "\n",
      "[1 rows x 27 columns]\n",
      "[1] \"Maximum peak linewidth (HWHM) not set, therefore taking estimated value  0.366245796249187 uHz\"\n",
      "[1] \"Finding only resolved peaks\"\n"
     ]
    }
   ],
   "source": [
    "import sys\n",
    "sys.path.insert(0, '../src')\n",
    "\n",
    "import pandas as pd\n",
    "import plotly.express as px\n",
    "import taco\n",
    "\n",
    "ts_raw = pd.read_csv('../data/001296068.dat', comment = '#', header = None, delim_whitespace = True)\n",
    "ts_filtered, data = taco.filter(ts_raw)\n",
    "\n",
    "pds = taco.calc_pds(ts_filtered)\n",
    "oversampled_pds = taco.calc_pds(ts_filtered, oversample_factor = 2)\n",
    "data[\"nuNyq\"] = pds[\"frequency\"].iloc[-1]\n",
    "\n",
    "data = taco.numax_estimate(pds, data)\n",
    "print(data)\n",
    "\n",
    "data = taco.background_fit(pds, oversampled_pds, data)\n",
    "print(data)\n",
    "\n",
    "peaks = taco.peak_find(pds, oversampled_pds, data)\n",
    "print(peaks)\n",
    "\n",
    "# peaksMLE = taco.peaksMLE(pds, peaks)\n",
    "# taco.peakBagModeId02()\n",
    "# mixed_peaks = taco.peak_find(pds, oversampled_pds, init = peaks, removel02 = True)\n",
    "# taco.peaksMLE(removel02 = True, init = peaksMLE, mixed_peaks = mixed_peaks)\n",
    "# taco.peaksMLE(finalfit = True)"
   ]
  }
 ],
 "metadata": {
  "kernelspec": {
   "display_name": "Python 3.8.10 64-bit",
   "language": "python",
   "name": "python3"
  },
  "language_info": {
   "codemirror_mode": {
    "name": "ipython",
    "version": 3
   },
   "file_extension": ".py",
   "mimetype": "text/x-python",
   "name": "python",
   "nbconvert_exporter": "python",
   "pygments_lexer": "ipython3",
   "version": "3.8.10"
  },
  "orig_nbformat": 4,
  "vscode": {
   "interpreter": {
    "hash": "31f2aee4e71d21fbe5cf8b01ff0e069b9275f58929596ceb00d14d90e3e16cd6"
   }
  }
 },
 "nbformat": 4,
 "nbformat_minor": 2
}
