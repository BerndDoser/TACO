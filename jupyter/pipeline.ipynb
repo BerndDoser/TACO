{
 "cells": [
  {
   "cell_type": "code",
   "execution_count": 1,
   "metadata": {},
   "outputs": [
    {
     "name": "stderr",
     "output_type": "stream",
     "text": [
      "R[write to console]: Loading ifultools version 2.0.23\n",
      "\n"
     ]
    },
    {
     "name": "stdout",
     "output_type": "stream",
     "text": [
      "          KIC    raw_data      mean            var    start_date  \\\n",
      "1 -2147483648 -2147483648  0.710706  289512.998778  54953.539258   \n",
      "\n",
      "       end_date  fill_factor       nuNyq  \n",
      "1  56204.322686     0.459576  283.211388  \n",
      "KeplerBg3Comp\n"
     ]
    },
    {
     "ename": "KeyError",
     "evalue": "'numax0'",
     "output_type": "error",
     "traceback": [
      "\u001b[0;31m---------------------------------------------------------------------------\u001b[0m",
      "\u001b[0;31mKeyError\u001b[0m                                  Traceback (most recent call last)",
      "File \u001b[0;32m/usr/local/lib/python3.8/dist-packages/pandas/core/indexes/base.py:3621\u001b[0m, in \u001b[0;36mIndex.get_loc\u001b[0;34m(self, key, method, tolerance)\u001b[0m\n\u001b[1;32m   3620\u001b[0m \u001b[39mtry\u001b[39;00m:\n\u001b[0;32m-> 3621\u001b[0m     \u001b[39mreturn\u001b[39;00m \u001b[39mself\u001b[39;49m\u001b[39m.\u001b[39;49m_engine\u001b[39m.\u001b[39;49mget_loc(casted_key)\n\u001b[1;32m   3622\u001b[0m \u001b[39mexcept\u001b[39;00m \u001b[39mKeyError\u001b[39;00m \u001b[39mas\u001b[39;00m err:\n",
      "File \u001b[0;32m/usr/local/lib/python3.8/dist-packages/pandas/_libs/index.pyx:136\u001b[0m, in \u001b[0;36mpandas._libs.index.IndexEngine.get_loc\u001b[0;34m()\u001b[0m\n",
      "File \u001b[0;32m/usr/local/lib/python3.8/dist-packages/pandas/_libs/index.pyx:163\u001b[0m, in \u001b[0;36mpandas._libs.index.IndexEngine.get_loc\u001b[0;34m()\u001b[0m\n",
      "File \u001b[0;32mpandas/_libs/hashtable_class_helper.pxi:5198\u001b[0m, in \u001b[0;36mpandas._libs.hashtable.PyObjectHashTable.get_item\u001b[0;34m()\u001b[0m\n",
      "File \u001b[0;32mpandas/_libs/hashtable_class_helper.pxi:5206\u001b[0m, in \u001b[0;36mpandas._libs.hashtable.PyObjectHashTable.get_item\u001b[0;34m()\u001b[0m\n",
      "\u001b[0;31mKeyError\u001b[0m: 'numax0'",
      "\nThe above exception was the direct cause of the following exception:\n",
      "\u001b[0;31mKeyError\u001b[0m                                  Traceback (most recent call last)",
      "\u001b[1;32m/workspaces/TACO/jupyter/pipeline.ipynb Cell 1\u001b[0m in \u001b[0;36m<cell line: 18>\u001b[0;34m()\u001b[0m\n\u001b[1;32m     <a href='vscode-notebook-cell://dev-container%2B2f686f6d652f646f73657262642f6769742f5441434f/workspaces/TACO/jupyter/pipeline.ipynb#W0sdnNjb2RlLXJlbW90ZQ%3D%3D?line=14'>15</a>\u001b[0m taco\u001b[39m.\u001b[39mnumax_estimate(pds, data)\n\u001b[1;32m     <a href='vscode-notebook-cell://dev-container%2B2f686f6d652f646f73657262642f6769742f5441434f/workspaces/TACO/jupyter/pipeline.ipynb#W0sdnNjb2RlLXJlbW90ZQ%3D%3D?line=15'>16</a>\u001b[0m \u001b[39mprint\u001b[39m(data)\n\u001b[0;32m---> <a href='vscode-notebook-cell://dev-container%2B2f686f6d652f646f73657262642f6769742f5441434f/workspaces/TACO/jupyter/pipeline.ipynb#W0sdnNjb2RlLXJlbW90ZQ%3D%3D?line=17'>18</a>\u001b[0m taco\u001b[39m.\u001b[39;49mbackground_fit(pds, data)\n\u001b[1;32m     <a href='vscode-notebook-cell://dev-container%2B2f686f6d652f646f73657262642f6769742f5441434f/workspaces/TACO/jupyter/pipeline.ipynb#W0sdnNjb2RlLXJlbW90ZQ%3D%3D?line=18'>19</a>\u001b[0m peaks \u001b[39m=\u001b[39m taco\u001b[39m.\u001b[39mpeak_find(pds, oversampled_pds, data)\n",
      "File \u001b[0;32m/workspaces/TACO/jupyter/../src/taco/background_fit.py:74\u001b[0m, in \u001b[0;36mbackground_fit\u001b[0;34m(pds, data, **kwargs)\u001b[0m\n\u001b[1;32m     71\u001b[0m \u001b[39m# Fetch background model\u001b[39;00m\n\u001b[1;32m     72\u001b[0m bkg_model \u001b[39m=\u001b[39m \u001b[39mgetattr\u001b[39m(lib\u001b[39m.\u001b[39mbackground\u001b[39m.\u001b[39mKeplerLCBgFit, settings\u001b[39m.\u001b[39mbkg_model)\n\u001b[0;32m---> 74\u001b[0m bg_fit \u001b[39m=\u001b[39m bkg_model(pds, data[\u001b[39m'\u001b[39;49m\u001b[39mnumax0\u001b[39;49m\u001b[39m'\u001b[39;49m][\u001b[39m0\u001b[39m], data[\u001b[39m'\u001b[39m\u001b[39mnuNyq\u001b[39m\u001b[39m'\u001b[39m][\u001b[39m0\u001b[39m], logfile \u001b[39m=\u001b[39m settings\u001b[39m.\u001b[39mlogfile)\n\u001b[1;32m     75\u001b[0m minESS \u001b[39m=\u001b[39m mESS\u001b[39m.\u001b[39mminESS(bg_fit\u001b[39m.\u001b[39mndim, alpha\u001b[39m=\u001b[39m\u001b[39m0.05\u001b[39m, eps\u001b[39m=\u001b[39m\u001b[39m0.1\u001b[39m)\n\u001b[1;32m     76\u001b[0m i \u001b[39m=\u001b[39m \u001b[39m0\u001b[39m\n",
      "File \u001b[0;32m/usr/local/lib/python3.8/dist-packages/pandas/core/frame.py:3505\u001b[0m, in \u001b[0;36mDataFrame.__getitem__\u001b[0;34m(self, key)\u001b[0m\n\u001b[1;32m   3503\u001b[0m \u001b[39mif\u001b[39;00m \u001b[39mself\u001b[39m\u001b[39m.\u001b[39mcolumns\u001b[39m.\u001b[39mnlevels \u001b[39m>\u001b[39m \u001b[39m1\u001b[39m:\n\u001b[1;32m   3504\u001b[0m     \u001b[39mreturn\u001b[39;00m \u001b[39mself\u001b[39m\u001b[39m.\u001b[39m_getitem_multilevel(key)\n\u001b[0;32m-> 3505\u001b[0m indexer \u001b[39m=\u001b[39m \u001b[39mself\u001b[39;49m\u001b[39m.\u001b[39;49mcolumns\u001b[39m.\u001b[39;49mget_loc(key)\n\u001b[1;32m   3506\u001b[0m \u001b[39mif\u001b[39;00m is_integer(indexer):\n\u001b[1;32m   3507\u001b[0m     indexer \u001b[39m=\u001b[39m [indexer]\n",
      "File \u001b[0;32m/usr/local/lib/python3.8/dist-packages/pandas/core/indexes/base.py:3623\u001b[0m, in \u001b[0;36mIndex.get_loc\u001b[0;34m(self, key, method, tolerance)\u001b[0m\n\u001b[1;32m   3621\u001b[0m     \u001b[39mreturn\u001b[39;00m \u001b[39mself\u001b[39m\u001b[39m.\u001b[39m_engine\u001b[39m.\u001b[39mget_loc(casted_key)\n\u001b[1;32m   3622\u001b[0m \u001b[39mexcept\u001b[39;00m \u001b[39mKeyError\u001b[39;00m \u001b[39mas\u001b[39;00m err:\n\u001b[0;32m-> 3623\u001b[0m     \u001b[39mraise\u001b[39;00m \u001b[39mKeyError\u001b[39;00m(key) \u001b[39mfrom\u001b[39;00m \u001b[39merr\u001b[39;00m\n\u001b[1;32m   3624\u001b[0m \u001b[39mexcept\u001b[39;00m \u001b[39mTypeError\u001b[39;00m:\n\u001b[1;32m   3625\u001b[0m     \u001b[39m# If we have a listlike key, _check_indexing_error will raise\u001b[39;00m\n\u001b[1;32m   3626\u001b[0m     \u001b[39m#  InvalidIndexError. Otherwise we fall through and re-raise\u001b[39;00m\n\u001b[1;32m   3627\u001b[0m     \u001b[39m#  the TypeError.\u001b[39;00m\n\u001b[1;32m   3628\u001b[0m     \u001b[39mself\u001b[39m\u001b[39m.\u001b[39m_check_indexing_error(key)\n",
      "\u001b[0;31mKeyError\u001b[0m: 'numax0'"
     ]
    }
   ],
   "source": [
    "import sys\n",
    "sys.path.insert(0, '../src')\n",
    "\n",
    "import pandas as pd\n",
    "import plotly.express as px\n",
    "import taco\n",
    "\n",
    "ts_raw = pd.read_csv('../data/001296068.dat', comment = '#', header = None, delim_whitespace = True)\n",
    "ts_filtered, data = taco.filter(ts_raw)\n",
    "\n",
    "pds = taco.calc_pds(ts_filtered)\n",
    "oversampled_pds = taco.calc_pds(ts_filtered, oversample_factor = 2)\n",
    "data[\"nuNyq\"] = pds[\"frequency\"].iloc[-1]\n",
    "\n",
    "taco.numax_estimate(pds, data)\n",
    "print(data)\n",
    "\n",
    "taco.background_fit(pds, data)\n",
    "peaks = taco.peak_find(pds, oversampled_pds, data)\n",
    "\n",
    "# peaksMLE = taco.peaksMLE(pds, peaks)\n",
    "# taco.peakBagModeId02()\n",
    "# mixed_peaks = taco.peak_find(pds, oversampled_pds, init = peaks, removel02 = True)\n",
    "# taco.peaksMLE(removel02 = True, init = peaksMLE, mixed_peaks = mixed_peaks)\n",
    "# taco.peaksMLE(finalfit = True)"
   ]
  }
 ],
 "metadata": {
  "kernelspec": {
   "display_name": "Python 3.8.10 64-bit",
   "language": "python",
   "name": "python3"
  },
  "language_info": {
   "codemirror_mode": {
    "name": "ipython",
    "version": 3
   },
   "file_extension": ".py",
   "mimetype": "text/x-python",
   "name": "python",
   "nbconvert_exporter": "python",
   "pygments_lexer": "ipython3",
   "version": "3.8.10"
  },
  "orig_nbformat": 4,
  "vscode": {
   "interpreter": {
    "hash": "31f2aee4e71d21fbe5cf8b01ff0e069b9275f58929596ceb00d14d90e3e16cd6"
   }
  }
 },
 "nbformat": 4,
 "nbformat_minor": 2
}
